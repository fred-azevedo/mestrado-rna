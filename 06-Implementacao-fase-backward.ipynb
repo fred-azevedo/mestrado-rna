{
 "cells": [
  {
   "cell_type": "markdown",
   "metadata": {},
   "source": [
    "# Exercício 06 - Implementação da Fase Backward\n",
    "\n",
    "Aluno: Frederico Luis de Azevedo\n",
    "\n",
    "Professor: Dr. Francisco de Assis Boldt\n",
    "\n",
    "## Introdução\n",
    "\n",
    "Neste exercício será implementado, com base no exercício anterior, a fase Backward de uma rede neural capaz de resolver um problema XOR "
   ]
  },
  {
   "cell_type": "markdown",
   "metadata": {},
   "source": [
    "## Bibliotecas e Inicialização"
   ]
  },
  {
   "cell_type": "code",
   "execution_count": 1,
   "metadata": {},
   "outputs": [],
   "source": [
    "import numpy as np\n",
    "import matplotlib.pyplot as plt\n",
    "\n",
    "from sklearn.base import BaseEstimator, ClassifierMixin\n",
    "from matplotlib.colors import ListedColormap\n",
    "\n",
    "# Ignore useless warnings (see SciPy issue #5998)\n",
    "import warnings\n",
    "warnings.filterwarnings(action=\"ignore\")\n",
    "\n",
    "np.random.seed(1)"
   ]
  },
  {
   "cell_type": "markdown",
   "metadata": {},
   "source": [
    "## Base de dados\n",
    "\n",
    "Para este exercício será construída uma base de dados com duas características e quatro registros (variações) de cada racacterística da operação XOR"
   ]
  },
  {
   "cell_type": "code",
   "execution_count": 2,
   "metadata": {},
   "outputs": [],
   "source": [
    "X = np.array([\n",
    "    [0, 0],\n",
    "    [0, 1],\n",
    "    [1, 0],\n",
    "    [1, 1]]\n",
    ")\n",
    "\n",
    "y = np.array([0, 1,\n",
    "              1, 0])"
   ]
  },
  {
   "cell_type": "markdown",
   "metadata": {},
   "source": [
    "## Implementação da Rede Neural XOR (Com fases Backward e Forward)"
   ]
  },
  {
   "cell_type": "code",
   "execution_count": 4,
   "metadata": {},
   "outputs": [],
   "source": [
    "class NeuralNetwork(BaseEstimator, ClassifierMixin):\n",
    "    \n",
    "    def __init__ (self, epochs = 10000, learning_rate = 0.2): \n",
    "        \n",
    "        self.epochs = epochs\n",
    "        self.learning_rate = learning_rate\n",
    "        \n",
    "        self.w1 = []\n",
    "        self.w2 = []\n",
    "        \n",
    "    def fit(self, X, y):\n",
    "        \n",
    "        # Inicializa os pesos aleatoriamente\n",
    "        self.w1 = 2 * np.random.rand(3, 3) - 1\n",
    "        self.w2 = 2 * np.random.rand(3, 1) - 1\n",
    "        \n",
    "        for epoch in range(self.epochs):\n",
    "            \n",
    "            for i in range(X.shape[0]):\n",
    "                \n",
    "                # Antes de iniciar, adiciona o bias\n",
    "                a = self._add_bias(X[i])\n",
    "            \n",
    "                z1 = self._forward(a, self.w1)\n",
    "                z2 = self._forward(z1, self.w2)\n",
    "                \n",
    "                pred = z2\n",
    "                real = y[i]\n",
    "\n",
    "                # delta do erro\n",
    "                delta_error = self._delta_error(real, pred)\n",
    "                    \n",
    "                d1 = self._backward(delta_error, z1, z2, self.w2)\n",
    "                d2 = self._backward(d1, a, z1, self.w1)\n",
    "                \n",
    "                \n",
    "    def predict(self, X):\n",
    "        \n",
    "        result = []\n",
    "        \n",
    "        for x in X:\n",
    "            \n",
    "            # Antes de iniciar, adiciona o bias\n",
    "            a = self._add_bias(x)\n",
    "            \n",
    "            z1 = self._forward(a, self.w1)\n",
    "            z2 = self._forward(z1, self.w2)\n",
    "            \n",
    "            result.append(z2)\n",
    "        \n",
    "        return np.array(result)\n",
    "\n",
    "    def _forward(self, x, w):\n",
    "        r = np.dot(x, w)\n",
    "        z = self._sigmoid(r)\n",
    "        return z\n",
    "    \n",
    "    def _backward(self, delta_error, x, y, w):\n",
    "        \n",
    "        w_transpose = np.transpose(w)\n",
    "        \n",
    "        dy = self._sigmoid_der(y)\n",
    "        \n",
    "        delta_error_y = np.multiply(delta_error, dy)\n",
    "        \n",
    "        d = np.dot(delta_error_y, w_transpose)\n",
    "        \n",
    "        d2 = np.dot(x.reshape(len(x), 1), delta_error_y.reshape(1, len(delta_error_y)))\n",
    "\n",
    "        w -= self.learning_rate * d2\n",
    "\n",
    "        return d\n",
    "    \n",
    "    def _add_bias(self, x):\n",
    "        return np.concatenate((np.ones(1).T, np.array(x)))\n",
    "        \n",
    "    def _sigmoid(self, z):\n",
    "        return 1 / (1 + np.exp(-z))\n",
    "    \n",
    "    def _sigmoid_der(self, z):\n",
    "        return np.multiply(z, (1 - z))\n",
    "    \n",
    "    def _delta_error(self, y, y_pred):\n",
    "        r = y_pred - y\n",
    "        return r"
   ]
  },
  {
   "cell_type": "markdown",
   "metadata": {},
   "source": [
    "## Execução do Classificador"
   ]
  },
  {
   "cell_type": "code",
   "execution_count": 5,
   "metadata": {},
   "outputs": [],
   "source": [
    "ann = NeuralNetwork()"
   ]
  },
  {
   "cell_type": "code",
   "execution_count": 6,
   "metadata": {},
   "outputs": [
    {
     "name": "stdout",
     "output_type": "stream",
     "text": [
      "Input:\n",
      " [[0 0]\n",
      " [0 1]\n",
      " [1 0]\n",
      " [1 1]]\n",
      "-----------------\n",
      "Predictions:\n",
      " [[0.03039241]\n",
      " [0.97717935]\n",
      " [0.97080254]\n",
      " [0.02667919]]\n"
     ]
    }
   ],
   "source": [
    "ann.fit(X, y)\n",
    "\n",
    "y_pred = ann.predict(X)\n",
    "print('Input:\\n', X)\n",
    "print('-----------------')\n",
    "print('Predictions:\\n', y_pred)"
   ]
  },
  {
   "cell_type": "markdown",
   "metadata": {},
   "source": [
    "## Plotando o Meshgrid"
   ]
  },
  {
   "cell_type": "code",
   "execution_count": 7,
   "metadata": {},
   "outputs": [],
   "source": [
    "def plot_meshgrid(X, y, classifier, test_idx=None, resolution=0.02):\n",
    "\n",
    "    # setup marker generator and color map\n",
    "    markers = ('s', 'x', 'o', '^', 'v')\n",
    "    colors = ('red', 'blue', 'lightgreen', 'gray', 'cyan')\n",
    "    cmap = ListedColormap(colors[:len(np.unique(y))])\n",
    "\n",
    "    # plot the decision surface\n",
    "    x1_min, x1_max = X[:, 0].min() - 1, X[:, 0].max() + 1\n",
    "    x2_min, x2_max = X[:, 1].min() - 1, X[:, 1].max() + 1\n",
    "    xx1, xx2 = np.meshgrid(np.arange(x1_min, x1_max, resolution),\n",
    "                           np.arange(x2_min, x2_max, resolution))\n",
    "    Z = classifier.predict(np.array([xx1.ravel(), xx2.ravel()]).T)\n",
    "    Z = Z.reshape(xx1.shape)\n",
    "    plt.contourf(xx1, xx2, Z, alpha=0.4, cmap=cmap)\n",
    "    plt.xlim(xx1.min(), xx1.max())\n",
    "    plt.ylim(xx2.min(), xx2.max())\n",
    "\n",
    "    # plot class samples\n",
    "    for idx, cl in enumerate(np.unique(y)):\n",
    "        plt.scatter(x=X[y == cl, 0], y=X[y == cl, 1],\n",
    "                    alpha=0.8, c=cmap(idx),\n",
    "                    marker=markers[idx], label=cl)\n",
    "\n",
    "    # highlight test samples\n",
    "    if test_idx:\n",
    "        # plot all samples\n",
    "        X_test, y_test = X[test_idx, :], y[test_idx]\n",
    "\n",
    "        plt.scatter(X_test[:, 0],\n",
    "                    X_test[:, 1],\n",
    "                    c='',\n",
    "                    alpha=1.0,\n",
    "                    linewidths=1,\n",
    "                    marker='o',\n",
    "                    s=55, label='test set')"
   ]
  },
  {
   "cell_type": "code",
   "execution_count": 8,
   "metadata": {},
   "outputs": [
    {
     "name": "stderr",
     "output_type": "stream",
     "text": [
      "'c' argument looks like a single numeric RGB or RGBA sequence, which should be avoided as value-mapping will have precedence in case its length matches with 'x' & 'y'.  Please use a 2-D array with a single row if you really want to specify the same RGB or RGBA value for all points.\n",
      "'c' argument looks like a single numeric RGB or RGBA sequence, which should be avoided as value-mapping will have precedence in case its length matches with 'x' & 'y'.  Please use a 2-D array with a single row if you really want to specify the same RGB or RGBA value for all points.\n"
     ]
    },
    {
     "data": {
      "image/png": "[encoded data removed]",
      "text/plain": [
       "<Figure size 432x288 with 1 Axes>"
      ]
     },
     "metadata": {
      "needs_background": "light"
     },
     "output_type": "display_data"
    }
   ],
   "source": [
    "plot_meshgrid(X,y,ann)"
   ]
  },
  {
   "cell_type": "markdown",
   "metadata": {},
   "source": [
    "## Resultados"
   ]
  },
  {
   "cell_type": "markdown",
   "metadata": {},
   "source": [
    "Nesta atividade foi solicitado a implementação da fase Backward em uma rede neural capaz de resolver o problema XOR. Ao contrário da atividade anterior que inseria pesos fixos de forma manual, nessa atividade os pesos são iniciados aleatoriamente e então calibrados dentro da etapa **fit**. O ajuste dos pesos é feito conforme a quantidade de épocas através das etapas de Forward e Backward avaliando o delta do erro do valor calculado e esperado.\n",
    "\n",
    "Durante o **fit**, os métodos Forward e Backward são executados duas vezes indicando que a rede possui duas camadas além da de entrada: uma camada intermediária e uma camada de saída, assim como no desenho do enunciado do exercício.\n",
    "\n",
    "No método **predict**, o forward é executado novamente agora com os pesos já calculados para prever novos resultados.\n",
    "\n",
    "O Plot do Meshgrid mostra que o resultado continua consistente e prevendo corretamente os valores propostos."
   ]
  }
 ],
 "metadata": {
  "kernelspec": {
   "display_name": "Python 3",
   "language": "python",
   "name": "python3"
  },
  "language_info": {
   "codemirror_mode": {
    "name": "ipython",
    "version": 3
   },
   "file_extension": ".py",
   "mimetype": "text/x-python",
   "name": "python",
   "nbconvert_exporter": "python",
   "pygments_lexer": "ipython3",
   "version": "3.7.3"
  },
  "nav_menu": {},
  "toc": {
   "navigate_menu": true,
   "number_sections": true,
   "sideBar": true,
   "threshold": 6,
   "toc_cell": false,
   "toc_section_display": "block",
   "toc_window_display": false
  }
 },
 "nbformat": 4,
 "nbformat_minor": 4
}
