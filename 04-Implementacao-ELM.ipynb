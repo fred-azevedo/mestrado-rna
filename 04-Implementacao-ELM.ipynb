{
 "cells": [
  {
   "cell_type": "markdown",
   "metadata": {},
   "source": [
    "# Exercício 04 - Implementação de uma ELM\n",
    "\n",
    "Aluno: Frederico Luis de Azevedo\n",
    "\n",
    "Professor: Dr. Francisco de Assis Boldt\n",
    "\n",
    "## Introdução\n",
    "\n",
    "Neste exercício será implementado uma Extreme Learning Machine para ser comparada com os demais classificadores Perceptron e MLPClassifier. Serão utilizadas quatro base de dados para a comparação."
   ]
  },
  {
   "cell_type": "markdown",
   "metadata": {},
   "source": [
    "## Bibliotecas e Inicialização"
   ]
  },
  {
   "cell_type": "code",
   "execution_count": 3,
   "metadata": {},
   "outputs": [],
   "source": [
    "from sklearn.datasets import make_classification\n",
    "from sklearn.datasets import make_gaussian_quantiles"
   ]
  },
  {
   "cell_type": "markdown",
   "metadata": {},
   "source": [
    "## Bases de dados\n",
    "\n",
    "Para este exercício serão construídas quatro bases de dados. As duas primeiras utilizam o método `make_classification`.\n",
    "\n",
    "- Base 1: 1000 registros e 100 características\n",
    "- Base 2: 50 registros e 100 características\n",
    "\n",
    "As bases 3 e 4 utilizam o método `make_gaussian_quantiles`:\n",
    "\n",
    "- Base 3: 1000 registros e 100 características\n",
    "- Base 4: 50 registros e 100 características"
   ]
  },
  {
   "cell_type": "code",
   "execution_count": 14,
   "metadata": {},
   "outputs": [],
   "source": [
    "X1, Y1 = make_classification(n_samples=1000, n_features=100)\n",
    "X2, Y2 = make_classification(n_samples=50, n_features=100)\n",
    "X3, Y3 = make_gaussian_quantiles(n_samples=1000, n_features=100, n_classes=2)\n",
    "X4, Y4 = make_gaussian_quantiles(n_samples=50, n_features=100, n_classes=2)"
   ]
  },
  {
   "cell_type": "markdown",
   "metadata": {},
   "source": [
    "## Implementação da ELM\n",
    "\n",
    "Neste exercício será implementado uma Extreme Learning Machine para ser comparada com os demais classificadores "
   ]
  }
 ],
 "metadata": {
  "kernelspec": {
   "display_name": "Python 3",
   "language": "python",
   "name": "python3"
  },
  "language_info": {
   "codemirror_mode": {
    "name": "ipython",
    "version": 3
   },
   "file_extension": ".py",
   "mimetype": "text/x-python",
   "name": "python",
   "nbconvert_exporter": "python",
   "pygments_lexer": "ipython3",
   "version": "3.7.3"
  },
  "nav_menu": {},
  "toc": {
   "navigate_menu": true,
   "number_sections": true,
   "sideBar": true,
   "threshold": 6,
   "toc_cell": false,
   "toc_section_display": "block",
   "toc_window_display": false
  }
 },
 "nbformat": 4,
 "nbformat_minor": 4
}
