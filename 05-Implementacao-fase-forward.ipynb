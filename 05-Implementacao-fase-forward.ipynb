{
 "cells": [
  {
   "cell_type": "markdown",
   "metadata": {},
   "source": [
    "# Exercício 05 - Implementação da Fase Forward\n",
    "\n",
    "Aluno: Frederico Luis de Azevedo\n",
    "\n",
    "Professor: Dr. Francisco de Assis Boldt\n",
    "\n",
    "## Introdução\n",
    "\n",
    "Neste exercício será implementado uma rede neural com a arquitetura da fase Foward de um problema XOR "
   ]
  },
  {
   "cell_type": "markdown",
   "metadata": {},
   "source": [
    "## Bibliotecas e Inicialização"
   ]
  },
  {
   "cell_type": "code",
   "execution_count": 1,
   "metadata": {},
   "outputs": [],
   "source": [
    "import numpy as np\n",
    "\n",
    "from sklearn.base import BaseEstimator, ClassifierMixin\n",
    "\n",
    "# Ignore useless warnings (see SciPy issue #5998)\n",
    "import warnings\n",
    "warnings.filterwarnings(action=\"ignore\")\n",
    "\n",
    "np.random.seed(1)"
   ]
  },
  {
   "cell_type": "markdown",
   "metadata": {},
   "source": [
    "## Base de dados\n",
    "\n",
    "Para este exercício será construída uma base de dados com duas características e quatro registros (variações) de cada racacterística da operação XOR"
   ]
  },
  {
   "cell_type": "code",
   "execution_count": 2,
   "metadata": {},
   "outputs": [],
   "source": [
    "dataset = np.array([\n",
    "    [0,0],\n",
    "    [0,1],\n",
    "    [1,0],\n",
    "    [1,1]]\n",
    ")"
   ]
  },
  {
   "cell_type": "markdown",
   "metadata": {},
   "source": [
    "## Implementação da Rede Neural XOR (fase foward)"
   ]
  },
  {
   "cell_type": "code",
   "execution_count": 9,
   "metadata": {},
   "outputs": [],
   "source": [
    "class NeuralNetwork(BaseEstimator, ClassifierMixin):\n",
    "    \n",
    "    def __init__(self):\n",
    "        self.w1 = []\n",
    "        self.w2 = []\n",
    "        \n",
    "    def fit(self, x):\n",
    "        [n,T] = x.shape\n",
    "        \n",
    "        # Wheigts (pesos)\n",
    "        self.w1 = np.random.normal(0, 1, (T, T))\n",
    "        self.w2 = np.random.normal(0, 1, (1, T))\n",
    "\n",
    "        # Bias\n",
    "        self.b1 = np.random.random((T, 1))\n",
    "        self.b2 = np.random.random((1, 1))\n",
    "        \n",
    "    def predict_proba(self, x):\n",
    "        \n",
    "        a1 = x.reshape(x.shape[0], 1)\n",
    "\n",
    "        z2 = np.dot(self.w1, a1) + self.b1\n",
    "        a2 = self._sigmoid(z2)\n",
    "\n",
    "        z3 = np.dot(self.w2, a2) + self.b2\n",
    "        a3 = self._sigmoid(z3)\n",
    "        \n",
    "        return a3\n",
    "        \n",
    "    def _sigmoid(self, z):\n",
    "        return 1 / (1 + np.exp(-z))"
   ]
  },
  {
   "cell_type": "markdown",
   "metadata": {},
   "source": [
    "## Execução do Classificador"
   ]
  },
  {
   "cell_type": "code",
   "execution_count": 10,
   "metadata": {},
   "outputs": [],
   "source": [
    "ann = NeuralNetwork()\n",
    "ann.fit(dataset)"
   ]
  },
  {
   "cell_type": "code",
   "execution_count": 11,
   "metadata": {},
   "outputs": [
    {
     "name": "stdout",
     "output_type": "stream",
     "text": [
      "Input:  [0 0]\n",
      "predict_proba: [[0.68439843]]\n"
     ]
    }
   ],
   "source": [
    "x = dataset[0]\n",
    "y = ann.predict_proba(x)\n",
    "print('Input: ', x)\n",
    "print('predict_proba:', y)"
   ]
  },
  {
   "cell_type": "code",
   "execution_count": 12,
   "metadata": {},
   "outputs": [
    {
     "name": "stdout",
     "output_type": "stream",
     "text": [
      "Input:  [0 1]\n",
      "predict_proba: [[0.70486021]]\n"
     ]
    }
   ],
   "source": [
    "x = dataset[1]\n",
    "y = ann.predict_proba(x)\n",
    "print('Input: ', x)\n",
    "print('predict_proba:', y)"
   ]
  },
  {
   "cell_type": "code",
   "execution_count": 13,
   "metadata": {},
   "outputs": [
    {
     "name": "stdout",
     "output_type": "stream",
     "text": [
      "Input:  [1 0]\n",
      "predict_proba: [[0.69291095]]\n"
     ]
    }
   ],
   "source": [
    "x = dataset[2]\n",
    "y = ann.predict_proba(x)\n",
    "print('Input: ', x)\n",
    "print('predict_proba:', y)"
   ]
  },
  {
   "cell_type": "code",
   "execution_count": 14,
   "metadata": {},
   "outputs": [
    {
     "name": "stdout",
     "output_type": "stream",
     "text": [
      "Input:  [1 1]\n",
      "predict_proba: [[0.72776468]]\n"
     ]
    }
   ],
   "source": [
    "x = dataset[3]\n",
    "y = ann.predict_proba(x)\n",
    "print('Input: ', x)\n",
    "print('predict_proba:', y)"
   ]
  }
 ],
 "metadata": {
  "kernelspec": {
   "display_name": "Python 3",
   "language": "python",
   "name": "python3"
  },
  "language_info": {
   "codemirror_mode": {
    "name": "ipython",
    "version": 3
   },
   "file_extension": ".py",
   "mimetype": "text/x-python",
   "name": "python",
   "nbconvert_exporter": "python",
   "pygments_lexer": "ipython3",
   "version": "3.7.3"
  },
  "nav_menu": {},
  "toc": {
   "navigate_menu": true,
   "number_sections": true,
   "sideBar": true,
   "threshold": 6,
   "toc_cell": false,
   "toc_section_display": "block",
   "toc_window_display": false
  }
 },
 "nbformat": 4,
 "nbformat_minor": 4
}
