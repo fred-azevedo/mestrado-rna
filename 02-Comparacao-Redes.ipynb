{
 "cells": [
  {
   "cell_type": "markdown",
   "metadata": {},
   "source": [
    "# Exercício 02 - Comparação de Redes Neurais Rasas\n",
    "\n",
    "Aluno: Frederico Luis de Azevedo\n",
    "\n",
    "Professor: Dr. Francisco de Assis Boldt"
   ]
  },
  {
   "cell_type": "markdown",
   "metadata": {},
   "source": [
    "## Bibliotecas e Inicialização"
   ]
  },
  {
   "cell_type": "code",
   "execution_count": 69,
   "metadata": {},
   "outputs": [],
   "source": [
    "from sklearn.datasets import make_classification\n",
    "from sklearn.linear_model import SGDClassifier\n",
    "from sklearn.model_selection import train_test_split\n",
    "from sklearn.utils import Bunch\n",
    "from sklearn.svm import SVC\n",
    "\n",
    "import numpy as np\n",
    "import time\n",
    "\n",
    "# Graficos\n",
    "import matplotlib.pyplot as plt\n",
    "from matplotlib.colors import ListedColormap\n",
    "\n"
   ]
  },
  {
   "cell_type": "markdown",
   "metadata": {},
   "source": [
    "## Classificadores Utilizados\n",
    "\n",
    "A comparação das redes neurais será feita utilizados os seguintes classificadores\n",
    "- SVM com Kernel linear\n",
    "- SGD com função de perda 'hinge' (SMV Linear treinada com descida de gradiente)"
   ]
  },
  {
   "cell_type": "code",
   "execution_count": 71,
   "metadata": {},
   "outputs": [],
   "source": [
    "svm = SVC(kernel='linear')\n",
    "sgd = SGDClassifier(loss='hinge')"
   ]
  },
  {
   "cell_type": "code",
   "execution_count": 60,
   "metadata": {},
   "outputs": [],
   "source": [
    "clfs = [\n",
    "    ('sgd',sgd),\n",
    "    ('svm',svm)\n",
    "]"
   ]
  },
  {
   "cell_type": "markdown",
   "metadata": {},
   "source": [
    "## Bases de dados\n",
    "\n",
    "Para este exercício serão construídas N bases de dados"
   ]
  },
  {
   "cell_type": "code",
   "execution_count": 61,
   "metadata": {},
   "outputs": [],
   "source": [
    "X, y = make_classification(n_samples=100000, n_features=20,\n",
    "                                    n_informative=2, n_redundant=2)"
   ]
  },
  {
   "cell_type": "code",
   "execution_count": 62,
   "metadata": {},
   "outputs": [
    {
     "data": {
      "text/plain": [
       "(100000, 20)"
      ]
     },
     "execution_count": 62,
     "metadata": {},
     "output_type": "execute_result"
    }
   ],
   "source": [
    "X.shape"
   ]
  },
  {
   "cell_type": "code",
   "execution_count": 63,
   "metadata": {},
   "outputs": [
    {
     "data": {
      "text/plain": [
       "{0: 49969, 1: 50031}"
      ]
     },
     "execution_count": 63,
     "metadata": {},
     "output_type": "execute_result"
    }
   ],
   "source": [
    "unique, counts = np.unique(y, return_counts=True)\n",
    "dict(zip(unique, counts))"
   ]
  },
  {
   "cell_type": "code",
   "execution_count": 64,
   "metadata": {},
   "outputs": [],
   "source": [
    "X2, y2 = make_classification(n_samples=100000, n_features=20,\n",
    "                                    n_informative=2, n_redundant=2, weights=[0.10, 0.90])"
   ]
  },
  {
   "cell_type": "code",
   "execution_count": 65,
   "metadata": {},
   "outputs": [
    {
     "data": {
      "text/plain": [
       "{0: 10409, 1: 89591}"
      ]
     },
     "execution_count": 65,
     "metadata": {},
     "output_type": "execute_result"
    }
   ],
   "source": [
    "unique, counts = np.unique(y2, return_counts=True)\n",
    "dict(zip(unique, counts))"
   ]
  },
  {
   "cell_type": "markdown",
   "metadata": {},
   "source": [
    "## Avaliação de Performance\n",
    "\n",
    "A avaliação da performance das redes neurais será feita com uma versão da classe PerformanceEvaluator criada na disciplina de Reconhecimento de Padrões"
   ]
  },
  {
   "cell_type": "code",
   "execution_count": 66,
   "metadata": {},
   "outputs": [],
   "source": [
    "class PerformanceEvaluator():\n",
    "  def __init__(self, datasets, cross_val = False):\n",
    "    self.datasets = datasets\n",
    "    self.cross_val = cross_val\n",
    "  def score(self, clf, X, y):\n",
    "    X_train, X_test, y_train, y_test = train_test_split(X, y, test_size=0.33)\n",
    "    clf.fit(X_train, y_train)\n",
    "    return clf.score(X_test, y_test)\n",
    "  def evaluate(self, clfs):\n",
    "    for name, dataset in self.datasets:\n",
    "        print('-------- {} --------'.format(name))\n",
    "        print(' ')\n",
    "        \n",
    "        for clf_name, clf in clfs:\n",
    "            start_time = time.time()\n",
    "            if (self.cross_val):\n",
    "                scores = cross_val_score(clf, dataset.data, dataset.target, cv=5)\n",
    "                print('{:>25}: {}'.format(clf_name, scores))\n",
    "                print('{:>25}: {}'.format('Mean', scores.mean()))\n",
    "                print('{:>25}: {}'.format('Std Deviation', scores.std()))\n",
    "                print('{:>25}: {}'.format('Median', np.median(scores)))\n",
    "                print('{:>25}: {}'.format('Best', scores.max()))\n",
    "            else:\n",
    "                print('{:>25}: {}'.format(clf_name, self.score(clf, dataset.data, dataset.target)))\n",
    "            \n",
    "            elapsed_time = time.time() - start_time\n",
    "            print('{:>25}: {}'.format('Time Spent', time.strftime(\"%H:%M:%S\", time.gmtime(elapsed_time))))\n",
    "            print(' ')\n",
    "       \n",
    "        print(' ')"
   ]
  },
  {
   "cell_type": "code",
   "execution_count": 67,
   "metadata": {},
   "outputs": [],
   "source": [
    "datasets = [\n",
    "    ('teste',Bunch(data=X, target=y)),\n",
    "    ('teste2',Bunch(data=X2, target=y2))\n",
    "]"
   ]
  },
  {
   "cell_type": "code",
   "execution_count": 70,
   "metadata": {},
   "outputs": [
    {
     "name": "stdout",
     "output_type": "stream",
     "text": [
      "-------- teste --------\n",
      " \n",
      "                      sgd: 0.9102424242424243\n",
      "               Time Spent: 00:00:00\n",
      " \n",
      "                      svm: 0.9141212121212121\n",
      "               Time Spent: 00:03:09\n",
      " \n",
      " \n",
      "-------- teste2 --------\n",
      " \n",
      "                      sgd: 0.9660909090909091\n",
      "               Time Spent: 00:00:00\n",
      " \n",
      "                      svm: 0.9678484848484848\n",
      "               Time Spent: 00:01:05\n",
      " \n",
      " \n"
     ]
    }
   ],
   "source": [
    "pe = PerformanceEvaluator(datasets, cross_val = False)\n",
    "pe.evaluate(clfs)"
   ]
  },
  {
   "cell_type": "code",
   "execution_count": null,
   "metadata": {},
   "outputs": [],
   "source": []
  }
 ],
 "metadata": {
  "kernelspec": {
   "display_name": "Python 3",
   "language": "python",
   "name": "python3"
  },
  "language_info": {
   "codemirror_mode": {
    "name": "ipython",
    "version": 3
   },
   "file_extension": ".py",
   "mimetype": "text/x-python",
   "name": "python",
   "nbconvert_exporter": "python",
   "pygments_lexer": "ipython3",
   "version": "3.7.3"
  }
 },
 "nbformat": 4,
 "nbformat_minor": 2
}
