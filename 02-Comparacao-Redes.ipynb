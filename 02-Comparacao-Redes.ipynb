{
 "cells": [
  {
   "cell_type": "markdown",
   "metadata": {},
   "source": [
    "# Exercício 02 - Comparação de Redes Neurais Rasas\n",
    "\n",
    "Aluno: Frederico Luis de Azevedo\n",
    "\n",
    "Professor: Dr. Francisco de Assis Boldt"
   ]
  },
  {
   "cell_type": "markdown",
   "metadata": {},
   "source": [
    "## Bibliotecas e Inicialização"
   ]
  },
  {
   "cell_type": "code",
   "execution_count": 69,
   "metadata": {},
   "outputs": [],
   "source": [
    "from sklearn.datasets import make_classification\n",
    "from sklearn.linear_model import SGDClassifier\n",
    "from sklearn.model_selection import train_test_split\n",
    "from sklearn.utils import Bunch\n",
    "from sklearn.svm import SVC\n",
    "\n",
    "import numpy as np\n",
    "import time\n",
    "\n",
    "# Graficos\n",
    "import matplotlib.pyplot as plt\n",
    "from matplotlib.colors import ListedColormap\n",
    "\n"
   ]
  },
  {
   "cell_type": "markdown",
   "metadata": {},
   "source": [
    "## Classificadores Utilizados\n",
    "\n",
    "A comparação das redes neurais será feita utilizados os seguintes classificadores\n",
    "- SVM com Kernel linear\n",
    "- SGD com função de perda 'hinge' (SMV Linear treinada com descida de gradiente)"
   ]
  },
  {
   "cell_type": "code",
   "execution_count": 71,
   "metadata": {},
   "outputs": [],
   "source": [
    "svm = SVC(kernel='linear')\n",
    "sgd = SGDClassifier(loss='hinge')"
   ]
  },
  {
   "cell_type": "code",
   "execution_count": 80,
   "metadata": {},
   "outputs": [],
   "source": [
    "clfs = [\n",
    "    ('SGD',sgd),\n",
    "    ('SVM',svm)\n",
    "]"
   ]
  },
  {
   "cell_type": "markdown",
   "metadata": {},
   "source": [
    "## Bases de dados\n",
    "\n",
    "Para este exercício serão construídas as seguintes bases de dados binárias:\n",
    "- Base 1: 10.000 registros com 20 características. A base será balanceada\n",
    "- Base 2: 10.000 registros com 20 características. A base será desbalanceada"
   ]
  },
  {
   "cell_type": "code",
   "execution_count": 92,
   "metadata": {},
   "outputs": [
    {
     "data": {
      "text/plain": [
       "{0: 4996, 1: 5004}"
      ]
     },
     "execution_count": 92,
     "metadata": {},
     "output_type": "execute_result"
    }
   ],
   "source": [
    "X, y = make_classification(n_samples=10000, n_features=20, weights=[0.5, 0.5])\n",
    "\n",
    "unique, counts = np.unique(y, return_counts=True)\n",
    "dict(zip(unique, counts))"
   ]
  },
  {
   "cell_type": "code",
   "execution_count": 97,
   "metadata": {},
   "outputs": [
    {
     "name": "stdout",
     "output_type": "stream",
     "text": [
      "{0: 1042, 1: 8958}\n"
     ]
    }
   ],
   "source": [
    "X2, y2 = make_classification(n_samples=10000, n_features=20, weights=[0.1, 0.9])\n",
    "\n",
    "unique, counts = np.unique(y2, return_counts=True)\n",
    "print(dict(zip(unique, counts)))\n",
    "print()"
   ]
  },
  {
   "cell_type": "markdown",
   "metadata": {},
   "source": [
    "## Avaliação de Performance\n",
    "\n",
    "A avaliação da performance das redes neurais será feita com uma versão da classe PerformanceEvaluator criada na disciplina de Reconhecimento de Padrões"
   ]
  },
  {
   "cell_type": "code",
   "execution_count": 94,
   "metadata": {},
   "outputs": [],
   "source": [
    "class PerformanceEvaluator():\n",
    "  def __init__(self, datasets, cross_val = False):\n",
    "    self.datasets = datasets\n",
    "    self.cross_val = cross_val\n",
    "  def score(self, clf, X, y):\n",
    "    X_train, X_test, y_train, y_test = train_test_split(X, y, test_size=0.33)\n",
    "    clf.fit(X_train, y_train)\n",
    "    return clf.score(X_test, y_test)\n",
    "  def evaluate(self, clfs):\n",
    "    for name, dataset in self.datasets:\n",
    "        print('-------- {} --------'.format(name))\n",
    "        print(' ')\n",
    "        \n",
    "        for clf_name, clf in clfs:\n",
    "            start_time = time.time()\n",
    "            if (self.cross_val):\n",
    "                scores = cross_val_score(clf, dataset.data, dataset.target, cv=5)\n",
    "                print('{:>25}: {}'.format(clf_name, scores))\n",
    "                print('{:>25}: {}'.format('Mean', scores.mean()))\n",
    "                print('{:>25}: {}'.format('Std Deviation', scores.std()))\n",
    "                print('{:>25}: {}'.format('Median', np.median(scores)))\n",
    "                print('{:>25}: {}'.format('Best', scores.max()))\n",
    "            else:\n",
    "                print('{:>25}: {}'.format(clf_name, self.score(clf, dataset.data, dataset.target)))\n",
    "            \n",
    "            elapsed_time = time.time() - start_time\n",
    "            print('{:>25}: {}'.format('Time Spent', time.strftime(\"%H:%M:%S\", time.gmtime(elapsed_time))))\n",
    "            print(' ')\n",
    "       \n",
    "        print(' ')"
   ]
  },
  {
   "cell_type": "code",
   "execution_count": 95,
   "metadata": {},
   "outputs": [],
   "source": [
    "datasets = [\n",
    "    ('Base 1',Bunch(data=X, target=y)),\n",
    "    ('Base 2',Bunch(data=X2, target=y2))\n",
    "]"
   ]
  },
  {
   "cell_type": "code",
   "execution_count": 96,
   "metadata": {},
   "outputs": [
    {
     "name": "stdout",
     "output_type": "stream",
     "text": [
      "-------- Base 1 --------\n",
      " \n",
      "                      SGD: 0.8839393939393939\n",
      "               Time Spent: 00:00:00\n",
      " \n",
      "                      SVM: 0.8948484848484849\n",
      "               Time Spent: 00:00:01\n",
      " \n",
      " \n",
      "-------- Base 2 --------\n",
      " \n",
      "                      SGD: 0.9448484848484848\n",
      "               Time Spent: 00:00:00\n",
      " \n",
      "                      SVM: 0.943030303030303\n",
      "               Time Spent: 00:00:00\n",
      " \n",
      " \n"
     ]
    }
   ],
   "source": [
    "pe = PerformanceEvaluator(datasets, cross_val = False)\n",
    "pe.evaluate(clfs)"
   ]
  },
  {
   "cell_type": "code",
   "execution_count": null,
   "metadata": {},
   "outputs": [],
   "source": []
  }
 ],
 "metadata": {
  "kernelspec": {
   "display_name": "Python 3",
   "language": "python",
   "name": "python3"
  },
  "language_info": {
   "codemirror_mode": {
    "name": "ipython",
    "version": 3
   },
   "file_extension": ".py",
   "mimetype": "text/x-python",
   "name": "python",
   "nbconvert_exporter": "python",
   "pygments_lexer": "ipython3",
   "version": "3.7.3"
  }
 },
 "nbformat": 4,
 "nbformat_minor": 2
}
